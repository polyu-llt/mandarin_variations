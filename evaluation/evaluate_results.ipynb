{
 "cells": [
  {
   "cell_type": "code",
   "execution_count": 18,
   "metadata": {
    "scrolled": true
   },
   "outputs": [
    {
     "name": "stdout",
     "output_type": "stream",
     "text": [
      "Rank & Team & Run &  & F1 (macro) \\\\\n",
      "1 & SUKI  & &  & 0.908494853 \\\\\n",
      "2 & hezhou  & &  & 0.900878576 \\\\\n",
      "3 & tearsofjoy  & &  & 0.884354257 \\\\\n",
      "4 & itsalexyang  & &  & 0.86870998 \\\\\n",
      "5 & Adaptcenter  & &  & 0.831717116 \\\\\n",
      "6 & ghpaetzold  & &  & 0.79591586 \\\\\n",
      "7 & gretelliz92  & &  & 0.748396929 \\\\\n",
      "Rank & Team & Run &  & F1 (macro) \\\\\n",
      "1 & hezhou  & &  & 0.89292194 \\\\\n",
      "2 & tearsofjoy  & &  & 0.873798077 \\\\\n",
      "3 & SUKI  & &  & 0.873476941 \\\\\n",
      "4 & itsalexyang  & &  & 0.853030838 \\\\\n",
      "5 & Adaptcenter  & &  & 0.812432609 \\\\\n",
      "6 & ghpaetzold  & &  & 0.793462359 \\\\\n",
      "7 & gretelliz92  & &  & 0.74964265 \\\\\n",
      "Processing folder:  SUKI\n",
      "Processing folder:  Adaptcenter\n",
      "Processing folder:  gretelliz92\n",
      "Processing folder:  ghpaetzold\n",
      "Processing folder:  hezhou\n",
      "Processing folder:  tearsofjoy\n",
      "Processing folder:  itsalexyang\n"
     ]
    }
   ],
   "source": [
    "import os, zipfile\n",
    "import re\n",
    "\n",
    "\n",
    "def generate_latex_table(file_trad, file_simpl):\n",
    "    for file in (file_trad,file_simpl):\n",
    "        for line_trad in file:\n",
    "            line_trad = re.sub('\\,',' & ',line_trad)\n",
    "            line_trad = re.sub('& \\d{6} &',' & &',line_trad)\n",
    "            line_trad = re.sub('& $\\n','\\\\\\\\\\\\\\\\',line_trad)\n",
    "            print(line_trad)\n",
    "        \n",
    "\n",
    "def result_analysis(cwd):\n",
    "    pass\n",
    "\n",
    "def unzip_files(full_file_path, team_name):\n",
    "    zip_ref = zipfile.ZipFile(full_file_path) # create zipfile object\n",
    "    zip_ref.extractall(team_name) # extract file to dir\n",
    "    zip_ref.close() # close file\n",
    "    \n",
    "def main():\n",
    "        ### first, generate results for a Latex table\n",
    "    file_results_traditional_track = open(\"team-rankings-DMTT-open.csv\", 'r')\n",
    "    file_results_simplified_track = open(\"team-rankings-DMTS-open.csv\", 'r')\n",
    "    generate_latex_table(file_results_traditional_track, file_results_simplified_track) #generate a Latex table for the paper\n",
    "    file_results_traditional_track.close()\n",
    "    file_results_simplified_track.close()\n",
    "    \n",
    "    cwd = os.getcwd()\n",
    "    for zip_file in os.listdir(cwd):\n",
    "        if zip_file.startswith(\"results-\"):\n",
    "            team_name = re.sub('results-(.+).zip', r'\\1', zip_file)\n",
    "            print(\"Processing folder: \",team_name)\n",
    "            full_file_path = os.path.abspath(zip_file)\n",
    "            #unzip_files(full_file_path, team_name)  #do it only once   \n",
    "            result_analysis(cwd)\n",
    "      \n",
    "    \n",
    "if __name__ == \"__main__\":\n",
    "    main()\n"
   ]
  },
  {
   "cell_type": "code",
   "execution_count": null,
   "metadata": {},
   "outputs": [],
   "source": []
  }
 ],
 "metadata": {
  "kernelspec": {
   "display_name": "Python 3",
   "language": "python",
   "name": "python3"
  },
  "language_info": {
   "codemirror_mode": {
    "name": "ipython",
    "version": 3
   },
   "file_extension": ".py",
   "mimetype": "text/x-python",
   "name": "python",
   "nbconvert_exporter": "python",
   "pygments_lexer": "ipython3",
   "version": "3.6.5"
  }
 },
 "nbformat": 4,
 "nbformat_minor": 2
}
