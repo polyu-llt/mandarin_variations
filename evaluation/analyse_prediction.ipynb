{
 "cells": [
  {
   "cell_type": "code",
   "execution_count": 81,
   "metadata": {},
   "outputs": [
    {
     "name": "stdout",
     "output_type": "stream",
     "text": [
      "/home/natalia/mandarin_variations/evaluation/DMT-SIMP\n",
      "9\n",
      "['txt', 'labels', 'SUKI-551629_simplerun1.labels', 'ghpaetzold-552518_utfpr_comp.labels', 'gretelliz92-551909_subm1.labels', 'Adaptcenter-552835_dmtSimple.labels', 'itsalexyang-551804_simplified_bilstm_mnb_mean_ensemble.labels', 'tearsofjoy-552465_simp_sub.labels', 'hezhou-552106_pred_ens_3_simp.labels']\n",
      "/home/natalia/mandarin_variations/evaluation/DMT-TRAD\n",
      "19\n",
      "['txt', 'labels', 'gretelliz92-551908_subm1.labels', 'SUKI-552177_traditionalrun3.labels', 'gretelliz92-552512_subm2.labels', 'hezhou-552109_pred_ens_3_trad.labels', 'tearsofjoy-552508_trad_sub.labels', 'tearsofjoy-552464_trad_sub.labels', 'hezhou-552024_pred_ens_1_trad.labels', 'hezhou-552107_pred_ens_2_trad.labels', 'ghpaetzold-552519_utfpr_comp.labels', 'itsalexyang-551808_traditional_bilstm_mnb_mean_ensemble.labels', 'tearsofjoy-552447_svm_a.labels', 'SUKI-551643_traditionalrun1.labels', 'Adaptcenter-552838_dmtTrad.labels', 'itsalexyang-551807_traditional_mnb_binary_char_(2, 3).labels', 'SUKI-552159_traditionalrun2.labels', 'itsalexyang-551799_traditional_bilstm_word_w2v_data_tune.labels', 'gretelliz92-552525_subm3.labels']\n"
     ]
    }
   ],
   "source": [
    "import os, zipfile\n",
    "import re\n",
    "import pandas as pd\n",
    "import numpy as np\n",
    "\n",
    "def load_folders(track):    \n",
    "    cwd = os.getcwd()\n",
    "    folder_path = os.path.join(cwd + \"/\" + track)\n",
    "    print (folder_path)\n",
    "    df_participants = pd.DataFrame()\n",
    "    for participant_folder in os.listdir(folder_path):\n",
    "        #print (\"===========\", participant_folder, \" ============\")\n",
    "        path_participant = os.path.join(folder_path + \"/\" + participant_folder)\n",
    "        for file in os.listdir(path_participant):\n",
    "            if file.endswith(\".labels\"):\n",
    "                participant_file_path = os.path.join(path_participant + \"/\" + file)\n",
    "                file_obj = open(participant_file_path, 'r')\n",
    "                #print (\"Folder path, file, team_name: \", folder_simp_path, file)                \n",
    "                data = pd.read_csv(file_obj, header = None)\n",
    "                #print (data)\n",
    "                column_name = participant_folder + \"_\" + file\n",
    "                df_participants[column_name] = data[data.columns[0]]\n",
    "    return df_participants\n",
    "\n",
    "def add_test(track, df): # adding two columns: sentence + prediction label\n",
    "    columns = ['labels', 'txt']\n",
    "    for column in columns:\n",
    "        file_to_open = track + \".\" + column\n",
    "        column_from_file = open(file_to_open, 'r')\n",
    "        column_data = pd.read_csv(column_from_file, header = None)\n",
    "        df.insert(loc=0, column=column, value=column_data)\n",
    "    return (df)\n",
    "\n",
    "def extract_diffs(df_all):\n",
    "    #print (df_all)\n",
    "    print (len(df_all.columns))\n",
    "    \n",
    "    print (list(df_all))\n",
    "    result_df =  df_all[df_all.iloc[:, -7:].nunique(1).gt(1)]\n",
    "    return(result_df)\n",
    "\n",
    "\n",
    "def main():\n",
    "    tracks = ['DMT-SIMP','DMT-TRAD']\n",
    "    for track in tracks:\n",
    "        file_out = \"outfile_\" + track + \".csv\"\n",
    "        filehandle = open(file_out,'w')\n",
    "        df_participants = load_folders(track)\n",
    "        #print (df_participants)\n",
    "        df_all = add_test(track, df_participants)\n",
    "        #print (df_all)\n",
    "        result_df = extract_diffs(df_all)\n",
    "        result_df.to_csv(filehandle, sep='|', encoding='utf-8')\n",
    "        \n",
    "if __name__ == \"__main__\":\n",
    "    main()\n"
   ]
  },
  {
   "cell_type": "code",
   "execution_count": null,
   "metadata": {},
   "outputs": [],
   "source": []
  },
  {
   "cell_type": "code",
   "execution_count": null,
   "metadata": {},
   "outputs": [],
   "source": []
  },
  {
   "cell_type": "code",
   "execution_count": null,
   "metadata": {},
   "outputs": [],
   "source": []
  }
 ],
 "metadata": {
  "kernelspec": {
   "display_name": "Python 3",
   "language": "python",
   "name": "python3"
  },
  "language_info": {
   "codemirror_mode": {
    "name": "ipython",
    "version": 3
   },
   "file_extension": ".py",
   "mimetype": "text/x-python",
   "name": "python",
   "nbconvert_exporter": "python",
   "pygments_lexer": "ipython3",
   "version": "3.6.5"
  }
 },
 "nbformat": 4,
 "nbformat_minor": 2
}
