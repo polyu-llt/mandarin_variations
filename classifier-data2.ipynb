{
 "cells": [
  {
   "cell_type": "code",
   "execution_count": 20,
   "metadata": {},
   "outputs": [
    {
     "name": "stdout",
     "output_type": "stream",
     "text": [
      "(18770, 23627)\n",
      "(2000, 23627)\n"
     ]
    }
   ],
   "source": [
    "\n",
    "# cat sentence_test.txt sentence_train.txt >  sentence_all.txt\n",
    "traditional = list(open(\"help_data/production/almost_ready/traditional/sentence_all.txt\", \"r\", encoding='utf-8').readlines())\n",
    "x_all = [s.strip() for s in traditional]\n",
    "\n",
    "#cut-f1 train.txt > sentence_train.txt\n",
    "X_train = list(open(\"help_data/production/almost_ready/traditional/sentence_train.txt\", \"r\", encoding='utf-8').readlines())\n",
    "X_train = [s.strip() for s in X_train]\n",
    "\n",
    "#cut-f1 test.txt > sentence_test.txt\n",
    "X_test = list(open(\"help_data/production/almost_ready/traditional/sentence_test.txt\", \"r\", encoding='utf-8').readlines())\n",
    "X_test = [s.strip() for s in X_test]\n",
    "\n",
    "#print (x_all)\n",
    "\n",
    "\n",
    "from sklearn.feature_extraction.text import CountVectorizer\n",
    "\n",
    "count_vect = CountVectorizer()\n",
    "X_counts = count_vect.fit(x_all)\n",
    "\n",
    "xtrain_count =  count_vect.transform(X_train)\n",
    "xvalid_count =  count_vect.transform(X_test)\n",
    "\n",
    "print(xtrain_count.shape)\n",
    "print(xvalid_count.shape)\n",
    "X_test_counts = count_vect.fit_transform(X_test)\n",
    "\n"
   ]
  },
  {
   "cell_type": "code",
   "execution_count": 21,
   "metadata": {},
   "outputs": [],
   "source": [
    "from sklearn.feature_extraction.text import TfidfTransformer, TfidfVectorizer\n",
    "\n",
    "\n",
    "tfidf_vect = TfidfVectorizer()#analyzer='word', token_pattern=r'\\w{1,}', max_features=5000)\n",
    "tfidf_vect.fit(x_all)\n",
    "\n",
    "xtrain_tfidf =  tfidf_vect.transform(X_train)\n",
    "xvalid_tfidf =  tfidf_vect.transform(X_test)\n",
    "\n",
    "\n"
   ]
  },
  {
   "cell_type": "code",
   "execution_count": 23,
   "metadata": {
    "scrolled": true
   },
   "outputs": [
    {
     "name": "stdout",
     "output_type": "stream",
     "text": [
      "countvec+ Logistic regression:  0.816\n",
      "count_vec + Support Vector Machines:  0.7945\n",
      "count_vec + Nearest neighbours:  0.578 \n",
      "\n"
     ]
    }
   ],
   "source": [
    "from sklearn.naive_bayes import MultinomialNB\n",
    "from sklearn import neighbors\n",
    "from sklearn.svm import SVC, LinearSVC\n",
    "from sklearn.linear_model import LogisticRegression\n",
    "import numpy as np\n",
    "\n",
    "\n",
    "y_train = list(open(\"help_data/production/almost_ready/traditional/train.labels\", \"r\", encoding='utf-8').readlines())\n",
    "y_test = list(open(\"help_data/production/almost_ready/traditional/gold.labels\", \"r\", encoding='utf-8').readlines())\n",
    "\n",
    "y_train = [s.strip() for s in y_train]\n",
    "y_test = [s.strip() for s in y_test]\n",
    "\n",
    "#print (y_test)\n",
    "#######Count Vectorizer#######\n",
    "#clf_count_nb = MultinomialNB().fit(xtrain_count, y_train)\n",
    "\n",
    "\n",
    "#######Tfidf#######\n",
    "#clf_tftdf_word_nb = MultinomialNB().fit(xtrain_tfidf, y_train)\n",
    "\n",
    "#########others\n",
    "\n",
    "#######Count Vectorizer#######\n",
    "#predicted_countvectorizer = clf_count_nb.predict(xvalid_count)\n",
    "#print ( \"CountVectorizer with Naive Bayes: \" ,np.mean(predicted_countvectorizer == y_test) )\n",
    "########\n",
    "clf_logreg = LogisticRegression()\n",
    "clf_logreg.fit(xtrain_count, y_train)\n",
    "print (\"countvec+ Logistic regression: \", clf_logreg.score(xvalid_count, y_test) )\n",
    "\n",
    "\n",
    "########\n",
    "clf_svc = LinearSVC()\n",
    "clf_svc.fit(xtrain_count, y_train)\n",
    "print (\"count_vec + Support Vector Machines: \", clf_svc.score(xvalid_count, y_test) )\n",
    "########\n",
    "clf_nei = neighbors.KNeighborsClassifier()\n",
    "clf_nei.fit(xtrain_count, y_train)\n",
    "print (\"count_vec + Nearest neighbours: \", clf_nei.score(xvalid_count, y_test), \"\\n\" )\n",
    "\n",
    "\n",
    "\n",
    "\n"
   ]
  },
  {
   "cell_type": "code",
   "execution_count": null,
   "metadata": {},
   "outputs": [],
   "source": [
    "\n",
    "#######Tfidf#######\n",
    "\n",
    "predicted_tftdf_word_nb = clf_tftdf_word_nb.predict(xvalid_count)\n",
    "print ( \"tftdf_word with Naive Bayes: \" ,np.mean(predicted_tftdf_word_nb == y_test) )\n",
    "########\n",
    "clf_tftdf_logreg = LogisticRegression()\n",
    "clf_tftdf_logreg.fit(xtrain_tfidf, y_train)\n",
    "print (\"tfidf+ Logistic regression: \", clf_tftdf_logreg.score(xvalid_count, y_test) )\n",
    "########\n",
    "clf_tftdf_svc = LinearSVC()\n",
    "clf_tftdf_svc.fit(xtrain_tfidf, y_train)\n",
    "print (\"tfidf + Support Vector Machines: \", clf_tftdf_svc.score(xvalid_count, y_test) )\n",
    "########\n",
    "clf_tftdf_nei = neighbors.KNeighborsClassifier()\n",
    "clf_tftdf_nei.fit(xtrain_tfidf, y_train)\n",
    "print (\"tfidf + Nearest neighbours: \", clf_tftdf_nei.score(xvalid_count, y_test) )\n"
   ]
  },
  {
   "cell_type": "code",
   "execution_count": 133,
   "metadata": {},
   "outputs": [
    {
     "name": "stdout",
     "output_type": "stream",
     "text": [
      "CountVectorizer with Naive Bayes:  0.8581827309236948\n",
      "tftdf_word with Naive Bayes:  0.844754016064257\n"
     ]
    }
   ],
   "source": [
    "import numpy as np\n",
    "\n",
    "#######Count Vectorizer#######\n",
    "predicted_countvectorizer = clf_count_nb.predict(xvalid_count)\n",
    "print ( \"CountVectorizer with Naive Bayes: \" ,np.mean(predicted_countvectorizer == y_test) )\n",
    "\n",
    "#######Tfidf#######\n",
    "predicted_tftdf_word_nb = clf_tftdf_word_nb.predict(xvalid_count)\n",
    "print ( \"tftdf_word with Naive Bayes: \" ,np.mean(predicted_tftdf_word_nb == y_test) )\n",
    "\n",
    "\n"
   ]
  },
  {
   "cell_type": "code",
   "execution_count": null,
   "metadata": {},
   "outputs": [],
   "source": []
  },
  {
   "cell_type": "code",
   "execution_count": null,
   "metadata": {},
   "outputs": [],
   "source": []
  }
 ],
 "metadata": {
  "kernelspec": {
   "display_name": "Python 3",
   "language": "python",
   "name": "python3"
  },
  "language_info": {
   "codemirror_mode": {
    "name": "ipython",
    "version": 3
   },
   "file_extension": ".py",
   "mimetype": "text/x-python",
   "name": "python",
   "nbconvert_exporter": "python",
   "pygments_lexer": "ipython3",
   "version": "3.5.2"
  }
 },
 "nbformat": 4,
 "nbformat_minor": 2
}
